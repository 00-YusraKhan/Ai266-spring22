{
 "cells": [
  {
   "cell_type": "code",
   "execution_count": 1,
   "metadata": {},
   "outputs": [
    {
     "name": "stderr",
     "output_type": "stream",
     "text": [
      "C:\\ProgramData\\Anaconda2\\lib\\site-packages\\ipykernel_launcher.py:6: SettingWithCopyWarning: \n",
      "A value is trying to be set on a copy of a slice from a DataFrame.\n",
      "Try using .loc[row_indexer,col_indexer] = value instead\n",
      "\n",
      "See the caveats in the documentation: http://pandas.pydata.org/pandas-docs/stable/indexing.html#indexing-view-versus-copy\n",
      "  \n"
     ]
    },
    {
     "name": "stdout",
     "output_type": "stream",
     "text": [
      "             id    target\n",
      "0        900000  0.100901\n",
      "1        900001  0.985358\n",
      "2        900002  0.668174\n",
      "3        900003  0.140988\n",
      "4        900004  0.667319\n",
      "5        900005  0.448611\n",
      "6        900006  0.732533\n",
      "7        900007  0.564568\n",
      "8        900008  0.787866\n",
      "9        900009  0.595276\n",
      "10       900010  0.704554\n",
      "11       900011  0.935242\n",
      "12       900012  0.677176\n",
      "13       900013  0.487043\n",
      "14       900014  0.854797\n",
      "15       900015  0.920539\n",
      "16       900016  0.509277\n",
      "17       900017  0.795501\n",
      "18       900018  0.796010\n",
      "19       900019  0.191699\n",
      "20       900020  0.032130\n",
      "21       900021  0.084112\n",
      "22       900022  0.665514\n",
      "23       900023  0.981731\n",
      "24       900024  0.283519\n",
      "25       900025  0.458122\n",
      "26       900026  0.359790\n",
      "27       900027  0.380838\n",
      "28       900028  0.909789\n",
      "29       900029  0.091000\n",
      "...         ...       ...\n",
      "699970  1599970  0.427335\n",
      "699971  1599971  0.274743\n",
      "699972  1599972  0.628842\n",
      "699973  1599973  0.022477\n",
      "699974  1599974  0.551385\n",
      "699975  1599975  0.800029\n",
      "699976  1599976  0.010933\n",
      "699977  1599977  0.707832\n",
      "699978  1599978  0.950728\n",
      "699979  1599979  0.593904\n",
      "699980  1599980  0.937620\n",
      "699981  1599981  0.091154\n",
      "699982  1599982  0.971236\n",
      "699983  1599983  0.241288\n",
      "699984  1599984  0.083298\n",
      "699985  1599985  0.652070\n",
      "699986  1599986  0.607528\n",
      "699987  1599987  0.365012\n",
      "699988  1599988  0.036719\n",
      "699989  1599989  0.591812\n",
      "699990  1599990  0.266615\n",
      "699991  1599991  0.285093\n",
      "699992  1599992  0.590365\n",
      "699993  1599993  0.649941\n",
      "699994  1599994  0.350048\n",
      "699995  1599995  0.668968\n",
      "699996  1599996  0.836990\n",
      "699997  1599997  0.281590\n",
      "699998  1599998  0.224808\n",
      "699999  1599999  0.490473\n",
      "\n",
      "[700000 rows x 2 columns]\n"
     ]
    }
   ],
   "source": [
    "import pandas as pd\n",
    "import numpy as np\n",
    "test_data_frame = pd.read_csv('C:\\\\Users\\\\PAKISTAN LAPTOP\\\\Desktop\\\\test.csv');\n",
    "id_data_frame = test_data_frame[['id']];\n",
    "id_data_frame.insert(1,\"target\",0);\n",
    "id_data_frame['target'] = np.random.rand(700000,1)\n",
    "print(id_data_frame)\n",
    "id_data_frame.to_csv('C:\\\\Users\\\\PAKISTAN LAPTOP\\\\Desktop\\\\out1.csv',index=False);"
   ]
  },
  {
   "cell_type": "code",
   "execution_count": null,
   "metadata": {},
   "outputs": [],
   "source": []
  }
 ],
 "metadata": {
  "kernelspec": {
   "display_name": "Python 2",
   "language": "python",
   "name": "python2"
  },
  "language_info": {
   "codemirror_mode": {
    "name": "ipython",
    "version": 2
   },
   "file_extension": ".py",
   "mimetype": "text/x-python",
   "name": "python",
   "nbconvert_exporter": "python",
   "pygments_lexer": "ipython2",
   "version": "2.7.16"
  }
 },
 "nbformat": 4,
 "nbformat_minor": 2
}
